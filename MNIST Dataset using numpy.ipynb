{
 "cells": [
  {
   "cell_type": "code",
   "execution_count": 13,
   "metadata": {},
   "outputs": [],
   "source": [
    "import numpy as np\n",
    "from matplotlib import pyplot as plt\n",
    "from tqdm import tqdm, trange\n",
    "# from sklearn.preprocessing import normalize\n",
    "import pandas as pd"
   ]
  },
  {
   "cell_type": "code",
   "execution_count": 2,
   "metadata": {},
   "outputs": [],
   "source": [
    "InputData = np.load(\"TrainingDataValue.npy\")\n",
    "TargetData = np.load(\"TrainingDataTarget.npy\")"
   ]
  },
  {
   "cell_type": "code",
   "execution_count": 3,
   "metadata": {},
   "outputs": [
    {
     "data": {
      "image/png": "[encoded data removed]",
      "text/plain": [
       "<Figure size 432x288 with 1 Axes>"
      ]
     },
     "metadata": {
      "needs_background": "light"
     },
     "output_type": "display_data"
    }
   ],
   "source": [
    "plt.imshow(InputData[8].reshape(28, 28))\n",
    "plt.show()"
   ]
  },
  {
   "cell_type": "code",
   "execution_count": 4,
   "metadata": {},
   "outputs": [
    {
     "name": "stdout",
     "output_type": "stream",
     "text": [
      "[0 0 0 0 0 1 0 0 0 0]\n"
     ]
    }
   ],
   "source": [
    "print(TargetData[8])"
   ]
  },
  {
   "cell_type": "code",
   "execution_count": 5,
   "metadata": {},
   "outputs": [],
   "source": [
    "def weights_int(input_units, output_units):\n",
    "    w = np.random.normal(loc=0.0, \n",
    "                        scale = np.sqrt(2/(input_units+output_units)), \n",
    "                        size = (input_units,output_units))\n",
    "    b = np.zeros(output_units)\n",
    "    return w, b"
   ]
  },
  {
   "cell_type": "code",
   "execution_count": 14,
   "metadata": {},
   "outputs": [],
   "source": [
    "# w1, b1 = weights_int(784, 600)\n",
    "# w2, b2 = weights_int(600, 450)\n",
    "# w3, b3 = weights_int(450, 320)\n",
    "# w4, b4 = weights_int(320, 100)\n",
    "# w5, b5 = weights_int(100, 10)\n",
    "\n",
    "w1 = np.load(\"weights1.npy\")\n",
    "w2 = np.load(\"weights2.npy\")\n",
    "w3 = np.load(\"weights3.npy\")\n",
    "w4 = np.load(\"weights4.npy\")\n",
    "w5 = np.load(\"weights5.npy\")\n",
    "\n",
    "b1 = np.load(\"bias1.npy\")\n",
    "b2 = np.load(\"bias2.npy\")\n",
    "b3 = np.load(\"bias3.npy\")\n",
    "b4 = np.load(\"bias4.npy\")\n",
    "b5 = np.load(\"bias5.npy\")\n",
    "\n",
    "costlist = np.load(\"costlist.npy\")"
   ]
  },
  {
   "cell_type": "code",
   "execution_count": 8,
   "metadata": {},
   "outputs": [],
   "source": [
    "InputData = normalize(InputData)"
   ]
  },
  {
   "cell_type": "code",
   "execution_count": 15,
   "metadata": {},
   "outputs": [],
   "source": [
    "def ReLU(x):\n",
    "    return x * (x > 0)\n",
    "\n",
    "def dReLU(x):\n",
    "    return 1. * (x > 0)\n",
    "\n",
    "def cross_ent(y, yhat):\n",
    "    return -1 * np.sum(y * np.log(yhat))\n",
    "\n",
    "def cross_ent_d(y, yhat):\n",
    "    return yhat - y\n",
    "\n",
    "def stable_softmax(X):\n",
    "    exps = np.exp(X)\n",
    "    return exps / np.sum(exps)"
   ]
  },
  {
   "cell_type": "code",
   "execution_count": 24,
   "metadata": {},
   "outputs": [],
   "source": [
    "iterations = 30\n",
    "lr = 0.01\n"
   ]
  },
  {
   "cell_type": "code",
   "execution_count": 25,
   "metadata": {},
   "outputs": [
    {
     "name": "stderr",
     "output_type": "stream",
     "text": [
      "100%|██████████| 42000/42000 [06:25<00:00, 108.95it/s]\n",
      "100%|██████████| 42000/42000 [06:57<00:00, 100.56it/s]\n",
      "100%|██████████| 42000/42000 [06:19<00:00, 110.76it/s]\n",
      "100%|██████████| 42000/42000 [06:08<00:00, 113.88it/s]\n",
      "100%|██████████| 42000/42000 [06:13<00:00, 122.13it/s]\n",
      "100%|██████████| 42000/42000 [06:08<00:00, 113.92it/s]\n",
      "100%|██████████| 42000/42000 [06:08<00:00, 114.10it/s]\n",
      "100%|██████████| 42000/42000 [06:08<00:00, 113.94it/s]\n",
      "100%|██████████| 42000/42000 [06:09<00:00, 113.59it/s]\n",
      "100%|██████████| 42000/42000 [06:09<00:00, 113.74it/s]\n",
      "100%|██████████| 42000/42000 [06:10<00:00, 113.50it/s]\n",
      "100%|██████████| 42000/42000 [06:11<00:00, 50.03it/s] \n",
      "100%|██████████| 42000/42000 [06:12<00:00, 112.62it/s]\n",
      "100%|██████████| 42000/42000 [06:07<00:00, 114.19it/s]\n",
      "100%|██████████| 42000/42000 [06:11<00:00, 112.96it/s]\n",
      "100%|██████████| 42000/42000 [06:08<00:00, 114.10it/s]\n",
      "100%|██████████| 42000/42000 [06:07<00:00, 114.20it/s]\n",
      "100%|██████████| 42000/42000 [06:13<00:00, 112.59it/s]\n",
      "100%|██████████| 42000/42000 [06:09<00:00, 113.76it/s]\n",
      "100%|██████████| 42000/42000 [06:10<00:00, 113.24it/s]\n",
      "100%|██████████| 42000/42000 [06:08<00:00, 113.90it/s]\n",
      "100%|██████████| 42000/42000 [06:09<00:00, 113.66it/s]\n",
      "100%|██████████| 42000/42000 [06:09<00:00, 117.38it/s]\n",
      "100%|██████████| 42000/42000 [06:09<00:00, 113.81it/s]\n",
      "100%|██████████| 42000/42000 [06:14<00:00, 117.55it/s]\n",
      "100%|██████████| 42000/42000 [06:09<00:00, 113.70it/s]\n",
      "100%|██████████| 42000/42000 [06:09<00:00, 113.73it/s]\n",
      "100%|██████████| 42000/42000 [06:12<00:00, 112.86it/s]\n",
      "100%|██████████| 42000/42000 [06:10<00:00, 113.30it/s]\n",
      "100%|██████████| 42000/42000 [06:11<00:00, 113.09it/s]\n"
     ]
    }
   ],
   "source": [
    "for i in range(iterations):\n",
    "    c = 0\n",
    "    for o in tqdm(range(len(InputData))):\n",
    "#         random = np.random.choice(len(InputData))\n",
    "        InputData1 = InputData[o].reshape(1, 784)\n",
    "        TargetData1 = TargetData[o].reshape(1, 10)\n",
    "\n",
    "        z1 = np.dot(InputData1, w1) + b1\n",
    "        a1 = ReLU(z1)\n",
    "\n",
    "        z2 = np.dot(a1, w2) + b2\n",
    "        a2 = ReLU(z2)\n",
    "\n",
    "        z3 = np.dot(a2, w3) + b3\n",
    "        a3 = ReLU(z3)\n",
    "\n",
    "        z4 = np.dot(a3, w4) + b4\n",
    "        a4 = ReLU(z4)\n",
    "\n",
    "        z5 = np.dot(a4, w5) + b5\n",
    "        a5 = stable_softmax(z5)\n",
    "        c += cross_ent(TargetData1, a5)\n",
    "        \n",
    "        #backprop\n",
    "        dcda5 = cross_ent_d(TargetData1, a5)\n",
    "        dz5dw5 = a4\n",
    "\n",
    "        dz5da4 = w5\n",
    "        da4dz4 = dReLU(z4)\n",
    "        dz4dw4 = a3\n",
    "\n",
    "        dz4a3 = w4\n",
    "        da3dz3 = dReLU(z3)\n",
    "        dz3dw3 = a2\n",
    "\n",
    "        dz3da2 = w3\n",
    "        da2dz2 = dReLU(z2)\n",
    "        dz2dw2 = a1\n",
    "\n",
    "        dz2da1 = w2\n",
    "        da1dz1 = dReLU(z1)\n",
    "        dz1dw1 = InputData1\n",
    "\n",
    "        dw5 = dcda5\n",
    "        db5 = np.sum(dw5, axis=0, keepdims=True)\n",
    "        w5 = w5 - lr * np.dot(dz5dw5.T, dw5)\n",
    "        b5 = b5 - lr * db5\n",
    "\n",
    "        dw4 = np.dot(dw5, dz5da4.T) * da4dz4\n",
    "        db4 = np.sum(dw4, axis=0, keepdims=True)\n",
    "        w4 = w4 - lr * np.dot(dz4dw4.T, dw4)\n",
    "        b4 = b4 - lr * db4\n",
    "\n",
    "        dw3 = np.dot(dw4, dz4a3.T) * da3dz3\n",
    "        db3 = np.sum(dw3, axis=0, keepdims=True)\n",
    "        w3 = w3 - lr * np.dot(dz3dw3.T, dw3)\n",
    "        b3 = b3 - lr * db3\n",
    "\n",
    "        dw2 = np.dot(dw3, dz3da2.T) * da2dz2\n",
    "        db2 = np.sum(dw2, axis=0, keepdims=True)\n",
    "        w2 = w2 - lr * np.dot(dz2dw2.T, dw2)\n",
    "        b2 = b2 - lr * db2\n",
    "\n",
    "        dw1 = np.dot(dw2, dz2da1.T) * da1dz1\n",
    "        db1 = np.sum(dw1, axis=0, keepdims=True)\n",
    "        w1 = w1 - lr * np.dot(dz1dw1.T, dw1)\n",
    "        b1 = b1 - lr * db1\n",
    "\n",
    "    costlist.append(c)"
   ]
  },
  {
   "cell_type": "code",
   "execution_count": 10,
   "metadata": {},
   "outputs": [
    {
     "name": "stdout",
     "output_type": "stream",
     "text": [
      "0.5772275491687807\n",
      "[396.00282409 226.76872321 250.95350821 193.34800584 134.13271267\n",
      " 520.09780269 124.83150209  94.18064663 293.24676063  56.06140798\n",
      "  89.93959715  76.20159322   9.09206846   6.34460131   2.37627988\n",
      "   1.96032965   1.67061332   1.48821289   1.32217008   1.21034289\n",
      "   1.09864867   1.02973926   0.94789992   0.87491885   0.81512743\n",
      "   0.76126155   0.71956771   0.67321633   0.65590454   0.61004465\n",
      "   0.57722755]\n"
     ]
    },
    {
     "data": {
      "image/png": "[encoded data removed]",
      "text/plain": [
       "<Figure size 432x288 with 1 Axes>"
      ]
     },
     "metadata": {
      "needs_background": "light"
     },
     "output_type": "display_data"
    }
   ],
   "source": [
    "print(costlist[-1])\n",
    "print(costlist)\n",
    "plt.plot(costlist)\n",
    "plt.show()"
   ]
  },
  {
   "cell_type": "code",
   "execution_count": 28,
   "metadata": {},
   "outputs": [],
   "source": [
    "np.save(\"weights1\", w1)\n",
    "np.save(\"weights2\", w2)\n",
    "np.save(\"weights3\", w3)\n",
    "np.save(\"weights4\", w4)\n",
    "np.save(\"weights5\", w5)\n",
    "\n",
    "np.save(\"bias1\", b1)\n",
    "np.save(\"bias2\", b2)\n",
    "np.save(\"bias3\", b3)\n",
    "np.save(\"bias4\", b4)\n",
    "np.save(\"bias5\", b5)\n",
    "\n",
    "np.save(\"costlist\", costlist)"
   ]
  },
  {
   "cell_type": "code",
   "execution_count": 18,
   "metadata": {},
   "outputs": [
    {
     "name": "stdout",
     "output_type": "stream",
     "text": [
      "3\n",
      "[[0 0 0 1 0 0 0 0 0 0]]\n"
     ]
    },
    {
     "data": {
      "image/png": "[encoded data removed]",
      "text/plain": [
       "<Figure size 432x288 with 1 Axes>"
      ]
     },
     "metadata": {
      "needs_background": "light"
     },
     "output_type": "display_data"
    }
   ],
   "source": [
    "random = np.random.choice(len(InputData))\n",
    "InputData1 = InputData[random].reshape(1, 784)\n",
    "TargetData1 = TargetData[random].reshape(1, 10)\n",
    "z1 = np.dot(InputData1, w1) + b1\n",
    "a1 = ReLU(z1)\n",
    "\n",
    "z2 = np.dot(a1, w2) + b2\n",
    "a2 = ReLU(z2)\n",
    "\n",
    "z3 = np.dot(a2, w3) + b3\n",
    "a3 = ReLU(z3)\n",
    "\n",
    "z4 = np.dot(a3, w4) + b4\n",
    "a4 = ReLU(z4)\n",
    "\n",
    "z5 = np.dot(a4, w5) + b5\n",
    "a5 = stable_softmax(z5)\n",
    "print(np.argmax(a5))\n",
    "print(TargetData1)\n",
    "plt.imshow(InputData1.reshape(28, 28))\n",
    "plt.show()"
   ]
  },
  {
   "cell_type": "code",
   "execution_count": 16,
   "metadata": {},
   "outputs": [],
   "source": [
    "csv = pd.read_csv(\"sample_submission.csv\")\n",
    "df = pd.DataFrame(csv)\n",
    "TestData = normalize(np.load(\"TestData.npy\"))"
   ]
  },
  {
   "cell_type": "code",
   "execution_count": 17,
   "metadata": {},
   "outputs": [
    {
     "name": "stderr",
     "output_type": "stream",
     "text": [
      "100%|██████████| 28000/28000 [00:08<00:00, 3253.55it/s]\n"
     ]
    }
   ],
   "source": [
    "for i in trange(len(TestData)):\n",
    "    z1 = np.dot(TestData[i].reshape(1,784), w1) + b1\n",
    "    a1 = ReLU(z1)\n",
    "\n",
    "    z2 = np.dot(a1, w2) + b2\n",
    "    a2 = ReLU(z2)\n",
    "\n",
    "    z3 = np.dot(a2, w3) + b3\n",
    "    a3 = ReLU(z3)\n",
    "\n",
    "    z4 = np.dot(a3, w4) + b4\n",
    "    a4 = ReLU(z4)\n",
    "\n",
    "    z5 = np.dot(a4, w5) + b5\n",
    "    a5 = stable_softmax(z5)\n",
    "    df.at[i, 'Label'] = np.argmax(a5)"
   ]
  },
  {
   "cell_type": "code",
   "execution_count": 1,
   "metadata": {},
   "outputs": [
    {
     "ename": "NameError",
     "evalue": "name 'df' is not defined",
     "output_type": "error",
     "traceback": [
      "\u001b[1;31m---------------------------------------------------------------------------\u001b[0m",
      "\u001b[1;31mNameError\u001b[0m                                 Traceback (most recent call last)",
      "\u001b[1;32m<ipython-input-1-2bd69f33d8e3>\u001b[0m in \u001b[0;36m<module>\u001b[1;34m\u001b[0m\n\u001b[1;32m----> 1\u001b[1;33m \u001b[0mdf\u001b[0m\u001b[1;33m.\u001b[0m\u001b[0mto_csv\u001b[0m\u001b[1;33m(\u001b[0m\u001b[1;34m\"submission.csv\"\u001b[0m\u001b[1;33m,\u001b[0m \u001b[0mindex\u001b[0m\u001b[1;33m=\u001b[0m\u001b[1;32mFalse\u001b[0m\u001b[1;33m)\u001b[0m\u001b[1;33m\u001b[0m\u001b[1;33m\u001b[0m\u001b[0m\n\u001b[0m",
      "\u001b[1;31mNameError\u001b[0m: name 'df' is not defined"
     ]
    }
   ],
   "source": [
    "df.to_csv(\"submission_.csv\", index=False)"
   ]
  },
  {
   "cell_type": "code",
   "execution_count": null,
   "metadata": {},
   "outputs": [],
   "source": []
  }
 ],
 "metadata": {
  "kernelspec": {
   "display_name": "Python 3",
   "language": "python",
   "name": "python3"
  },
  "language_info": {
   "codemirror_mode": {
    "name": "ipython",
    "version": 3
   },
   "file_extension": ".py",
   "mimetype": "text/x-python",
   "name": "python",
   "nbconvert_exporter": "python",
   "pygments_lexer": "ipython3",
   "version": "3.6.10"
  }
 },
 "nbformat": 4,
 "nbformat_minor": 2
}
