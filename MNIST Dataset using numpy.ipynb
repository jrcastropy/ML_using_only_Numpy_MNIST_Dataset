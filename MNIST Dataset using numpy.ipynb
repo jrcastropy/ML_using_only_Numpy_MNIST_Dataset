{
 "cells": [
  {
   "cell_type": "code",
   "execution_count": 87,
   "metadata": {},
   "outputs": [],
   "source": [
    "import numpy as np\n",
    "from matplotlib import pyplot as plt\n",
    "from tqdm import tqdm, trange\n",
    "import tensorflow as tf\n",
    "# from sklearn.preprocessing import normalize\n",
    "import pandas as pd"
   ]
  },
  {
   "cell_type": "code",
   "execution_count": 62,
   "metadata": {},
   "outputs": [
    {
     "data": {
      "image/png": "[encoded data removed]",
      "text/plain": [
       "<Figure size 432x432 with 4 Axes>"
      ]
     },
     "metadata": {
      "needs_background": "light"
     },
     "output_type": "display_data"
    }
   ],
   "source": [
    "# InputData = np.load(\"TrainingDataValue.npy\")\n",
    "# TargetData = np.load(\"TrainingDataTarget.npy\")\n",
    "\n",
    "import keras\n",
    "import matplotlib.pyplot as plt\n",
    "%matplotlib inline\n",
    "\n",
    "def load_dataset(flatten=False):\n",
    "    (X_train, l_train), (X_test, l_test) = keras.datasets.mnist.load_data()\n",
    "    \n",
    "    # convert y_train from single number to one hot encoding\n",
    "    y_train = np.zeros((l_train.shape[0], l_train.max()+1), dtype=np.float32)\n",
    "    y_train[np.arange(l_train.shape[0]), l_train] = 1\n",
    "    y_test = np.zeros((l_test.shape[0], l_test.max()+1), dtype=np.float32)\n",
    "    y_test[np.arange(l_test.shape[0]), l_test] = 1\n",
    "    \n",
    "    # normalize x\n",
    "    X_train = X_train.astype(float) / 255.\n",
    "    X_test = X_test.astype(float) / 255.\n",
    "    \n",
    "    # we reserve the last 10000 training examples for validation\n",
    "    X_train, X_val = X_train[:-10000], X_train[-10000:]\n",
    "    y_train, y_val = y_train[:-10000], y_train[-10000:]\n",
    "    if flatten:\n",
    "        X_train = X_train.reshape([X_train.shape[0], -1])\n",
    "        X_val = X_val.reshape([X_val.shape[0], -1])\n",
    "        X_test = X_test.reshape([X_test.shape[0], -1])\n",
    "\n",
    "    \n",
    "    return X_train, y_train, X_val, y_val, X_test, y_test\n",
    "\n",
    "X_train, y_train, X_val, y_val, X_test, y_test = load_dataset(flatten=True)\n",
    "\n",
    "## Let's look at some example\n",
    "plt.figure(figsize=[6,6])\n",
    "for i in range(4):\n",
    "    plt.subplot(2,2,i+1)\n",
    "    plt.title(\"Label: %i\"%y_train[i].argmax())\n",
    "    plt.imshow(X_train[i].reshape([28,28]),cmap='gray');\n"
   ]
  },
  {
   "cell_type": "code",
   "execution_count": 64,
   "metadata": {},
   "outputs": [],
   "source": [
    "def weights_int(input_units, output_units):\n",
    "    w = np.random.normal(loc=0.0, \n",
    "                        scale = np.sqrt(2/(input_units+output_units)), \n",
    "                        size = (input_units,output_units))\n",
    "    b = np.zeros(output_units)\n",
    "    return w, b"
   ]
  },
  {
   "cell_type": "code",
   "execution_count": 69,
   "metadata": {},
   "outputs": [],
   "source": [
    "w1, b1 = weights_int(784, 600)\n",
    "w2, b2 = weights_int(600, 450)\n",
    "w3, b3 = weights_int(450, 320)\n",
    "w4, b4 = weights_int(320, 100)\n",
    "w5, b5 = weights_int(100, 10)\n",
    "costlist = []\n",
    "\n",
    "# w1 = np.load(\"weights1.npy\")\n",
    "# w2 = np.load(\"weights2.npy\")\n",
    "# w3 = np.load(\"weights3.npy\")\n",
    "# w4 = np.load(\"weights4.npy\")\n",
    "# w5 = np.load(\"weights5.npy\")\n",
    "\n",
    "# b1 = np.load(\"bias1.npy\")\n",
    "# b2 = np.load(\"bias2.npy\")\n",
    "# b3 = np.load(\"bias3.npy\")\n",
    "# b4 = np.load(\"bias4.npy\")\n",
    "# b5 = np.load(\"bias5.npy\")\n",
    "\n",
    "# costlist = np.load(\"costlist.npy\")"
   ]
  },
  {
   "cell_type": "code",
   "execution_count": 8,
   "metadata": {},
   "outputs": [],
   "source": [
    "# InputData = normalize(InputData)"
   ]
  },
  {
   "cell_type": "code",
   "execution_count": 66,
   "metadata": {},
   "outputs": [],
   "source": [
    "def ReLU(x):\n",
    "    return x * (x > 0)\n",
    "\n",
    "def dReLU(x):\n",
    "    return 1. * (x > 0)\n",
    "\n",
    "def cross_ent(y, yhat):\n",
    "    return -1 * np.sum(y * np.log(yhat))\n",
    "\n",
    "def cross_ent_d(y, yhat):\n",
    "    return yhat - y\n",
    "\n",
    "def stable_softmax(X):\n",
    "    exps = np.exp(X)\n",
    "    return exps / np.sum(exps)\n",
    "\n",
    "def lin_func(a, w, b):\n",
    "    return np.dot(a, w) + b\n",
    "\n",
    "def "
   ]
  },
  {
   "cell_type": "code",
   "execution_count": 67,
   "metadata": {},
   "outputs": [],
   "source": [
    "iterations = 30\n",
    "lr = 0.01\n"
   ]
  },
  {
   "cell_type": "code",
   "execution_count": 70,
   "metadata": {},
   "outputs": [
    {
     "name": "stderr",
     "output_type": "stream",
     "text": [
      "100%|██████████| 50000/50000 [03:55<00:00, 212.60it/s]\n",
      "100%|██████████| 50000/50000 [03:37<00:00, 229.96it/s]\n",
      "100%|██████████| 50000/50000 [04:02<00:00, 206.40it/s]\n",
      "100%|██████████| 50000/50000 [03:51<00:00, 215.98it/s]\n",
      "100%|██████████| 50000/50000 [03:50<00:00, 216.98it/s]\n",
      "100%|██████████| 50000/50000 [03:58<00:00, 209.41it/s]\n",
      "100%|██████████| 50000/50000 [03:59<00:00, 208.90it/s]\n",
      "100%|██████████| 50000/50000 [03:57<00:00, 210.57it/s]\n",
      "100%|██████████| 50000/50000 [03:42<00:00, 224.40it/s]\n",
      "100%|██████████| 50000/50000 [03:18<00:00, 251.34it/s]\n",
      "100%|██████████| 50000/50000 [03:18<00:00, 251.44it/s]\n",
      "100%|██████████| 50000/50000 [03:56<00:00, 211.33it/s]\n",
      "100%|██████████| 50000/50000 [03:51<00:00, 215.91it/s]\n",
      "100%|██████████| 50000/50000 [03:43<00:00, 224.12it/s]\n",
      "100%|██████████| 50000/50000 [04:00<00:00, 207.53it/s]\n",
      "100%|██████████| 50000/50000 [03:21<00:00, 247.74it/s]\n",
      "100%|██████████| 50000/50000 [03:17<00:00, 252.60it/s]\n",
      "100%|██████████| 50000/50000 [03:37<00:00, 229.62it/s]\n",
      "100%|██████████| 50000/50000 [04:04<00:00, 204.28it/s]\n",
      "100%|██████████| 50000/50000 [03:47<00:00, 219.97it/s]\n",
      "100%|██████████| 50000/50000 [04:06<00:00, 202.97it/s]\n",
      "100%|██████████| 50000/50000 [04:30<00:00, 185.14it/s]\n",
      "100%|██████████| 50000/50000 [04:30<00:00, 185.12it/s]\n",
      "100%|██████████| 50000/50000 [03:59<00:00, 209.02it/s]\n",
      "100%|██████████| 50000/50000 [04:22<00:00, 190.83it/s]\n",
      "100%|██████████| 50000/50000 [03:53<00:00, 214.33it/s]\n",
      "100%|██████████| 50000/50000 [03:56<00:00, 211.34it/s]\n",
      "100%|██████████| 50000/50000 [05:16<00:00, 158.20it/s]\n",
      "100%|██████████| 50000/50000 [03:31<00:00, 236.78it/s]\n",
      "100%|██████████| 50000/50000 [03:19<00:00, 251.06it/s]\n"
     ]
    }
   ],
   "source": [
    "for i in range(iterations):\n",
    "    c = 0\n",
    "    for o in tqdm(range(len(X_train))):\n",
    "        # forward pass\n",
    "        InputData1 = X_train[o].reshape(1, 784)\n",
    "        TargetData1 = y_train[o].reshape(1, 10)\n",
    "\n",
    "        z1 = lin_func(InputData1, w1, b1)\n",
    "        a1 = ReLU(z1)\n",
    "\n",
    "        z2 = lin_func(a1, w2, b2)\n",
    "        a2 = ReLU(z2)\n",
    "\n",
    "        z3 = lin_func(a2, w3, b3)\n",
    "        a3 = ReLU(z3)\n",
    "\n",
    "        z4 = lin_func(a3, w4, b4)\n",
    "        a4 = ReLU(z4)\n",
    "\n",
    "        z5 = lin_func(a4, w5, b5)\n",
    "        a5 = stable_softmax(z5)\n",
    "        \n",
    "        c += cross_ent(TargetData1, a5)\n",
    "        \n",
    "        # backprop\n",
    "        dcda5 = cross_ent_d(TargetData1, a5)\n",
    "        dz5dw5 = a4\n",
    "\n",
    "        dz5da4 = w5\n",
    "        da4dz4 = dReLU(z4)\n",
    "        dz4dw4 = a3\n",
    "\n",
    "        dz4a3 = w4\n",
    "        da3dz3 = dReLU(z3)\n",
    "        dz3dw3 = a2\n",
    "\n",
    "        dz3da2 = w3\n",
    "        da2dz2 = dReLU(z2)\n",
    "        dz2dw2 = a1\n",
    "\n",
    "        dz2da1 = w2\n",
    "        da1dz1 = dReLU(z1)\n",
    "        dz1dw1 = InputData1\n",
    "\n",
    "        dw5 = dcda5\n",
    "        db5 = np.sum(dw5, axis=0, keepdims=True)\n",
    "        w5 = w5 - lr * np.dot(dz5dw5.T, dw5)\n",
    "        b5 = b5 - lr * db5\n",
    "\n",
    "        dw4 = np.dot(dw5, dz5da4.T) * da4dz4\n",
    "        db4 = np.sum(dw4, axis=0, keepdims=True)\n",
    "        w4 = w4 - lr * np.dot(dz4dw4.T, dw4)\n",
    "        b4 = b4 - lr * db4\n",
    "\n",
    "        dw3 = np.dot(dw4, dz4a3.T) * da3dz3\n",
    "        db3 = np.sum(dw3, axis=0, keepdims=True)\n",
    "        w3 = w3 - lr * np.dot(dz3dw3.T, dw3)\n",
    "        b3 = b3 - lr * db3\n",
    "\n",
    "        dw2 = np.dot(dw3, dz3da2.T) * da2dz2\n",
    "        db2 = np.sum(dw2, axis=0, keepdims=True)\n",
    "        w2 = w2 - lr * np.dot(dz2dw2.T, dw2)\n",
    "        b2 = b2 - lr * db2\n",
    "\n",
    "        dw1 = np.dot(dw2, dz2da1.T) * da1dz1\n",
    "        db1 = np.sum(dw1, axis=0, keepdims=True)\n",
    "        w1 = w1 - lr * np.dot(dz1dw1.T, dw1)\n",
    "        b1 = b1 - lr * db1\n",
    "\n",
    "    costlist.append(c)"
   ]
  },
  {
   "cell_type": "code",
   "execution_count": 71,
   "metadata": {},
   "outputs": [
    {
     "name": "stdout",
     "output_type": "stream",
     "text": [
      "0.9691127846055593\n",
      "[11727.191899331754, 5036.523477268648, 3353.9874659606808, 2572.3058928812993, 2083.3759439239852, 1757.9577985397889, 1574.9720640144105, 1455.7516983431926, 1153.2072260532113, 946.9300901889799, 993.3066471114244, 786.8744162738226, 738.9848433465252, 607.9750409491402, 632.8869703417288, 379.9040388057097, 481.90829602543516, 469.55393774576476, 247.23457957450165, 391.6568058088645, 359.8560825918812, 411.25992806834887, 228.34073015953607, 341.79571622473725, 147.3867891157683, 74.27726824800179, 7.70259878879242, 1.8837824068499958, 1.2176520001370983, 0.9691127846055593]\n"
     ]
    },
    {
     "data": {
      "image/png": "[encoded data removed]",
      "text/plain": [
       "<Figure size 432x288 with 1 Axes>"
      ]
     },
     "metadata": {
      "needs_background": "light"
     },
     "output_type": "display_data"
    }
   ],
   "source": [
    "print(costlist[-1])\n",
    "print(costlist)\n",
    "plt.plot(costlist)\n",
    "plt.show()"
   ]
  },
  {
   "cell_type": "code",
   "execution_count": 28,
   "metadata": {},
   "outputs": [],
   "source": [
    "np.save(\"weights1\", w1)\n",
    "np.save(\"weights2\", w2)\n",
    "np.save(\"weights3\", w3)\n",
    "np.save(\"weights4\", w4)\n",
    "np.save(\"weights5\", w5)\n",
    "\n",
    "np.save(\"bias1\", b1)\n",
    "np.save(\"bias2\", b2)\n",
    "np.save(\"bias3\", b3)\n",
    "np.save(\"bias4\", b4)\n",
    "np.save(\"bias5\", b5)\n",
    "\n",
    "np.save(\"costlist\", costlist)"
   ]
  },
  {
   "cell_type": "code",
   "execution_count": 86,
   "metadata": {},
   "outputs": [
    {
     "name": "stdout",
     "output_type": "stream",
     "text": [
      "The hand written number is 4\n",
      "[[0. 0. 0. 0. 1. 0. 0. 0. 0. 0.]]\n"
     ]
    },
    {
     "data": {
      "image/png": "[encoded data removed]",
      "text/plain": [
       "<Figure size 432x288 with 1 Axes>"
      ]
     },
     "metadata": {
      "needs_background": "light"
     },
     "output_type": "display_data"
    }
   ],
   "source": [
    "random = np.random.choice(len(X_val))\n",
    "InputData1 = X_val[random].reshape(1, 784)\n",
    "TargetData1 = y_val[random].reshape(1, 10)\n",
    "z1 = np.dot(InputData1, w1) + b1\n",
    "a1 = ReLU(z1)\n",
    "\n",
    "z2 = np.dot(a1, w2) + b2\n",
    "a2 = ReLU(z2)\n",
    "\n",
    "z3 = np.dot(a2, w3) + b3\n",
    "a3 = ReLU(z3)\n",
    "\n",
    "z4 = np.dot(a3, w4) + b4\n",
    "a4 = ReLU(z4)\n",
    "\n",
    "z5 = np.dot(a4, w5) + b5\n",
    "a5 = stable_softmax(z5)\n",
    "print(\"The hand written number is\", np.argmax(a5))\n",
    "print(TargetData1)\n",
    "plt.imshow(InputData1.reshape(28, 28))\n",
    "plt.show()"
   ]
  }
 ],
 "metadata": {
  "kernelspec": {
   "display_name": "Python 3",
   "language": "python",
   "name": "python3"
  },
  "language_info": {
   "codemirror_mode": {
    "name": "ipython",
    "version": 3
   },
   "file_extension": ".py",
   "mimetype": "text/x-python",
   "name": "python",
   "nbconvert_exporter": "python",
   "pygments_lexer": "ipython3",
   "version": "3.8.5"
  }
 },
 "nbformat": 4,
 "nbformat_minor": 2
}
